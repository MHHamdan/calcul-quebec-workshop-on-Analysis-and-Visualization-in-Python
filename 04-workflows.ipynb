{
 "cells": [
  {
   "cell_type": "markdown",
   "metadata": {},
   "source": [
    "# Data Analysis and Visualization in Python\n",
    "## Data workflows and automation\n",
    "Questions\n",
    "* Can I automate operations in Python?\n",
    "* What are functions and why should I use them?\n",
    "\n",
    "Objectives\n",
    "* Employ `for` loops to automate data analysis.\n",
    "* Write unique filenames in Python.\n",
    "* Build reusable code in Python.\n",
    "* Write functions using conditional statements (`if`, `then`, `else`)."
   ]
  },
  {
   "cell_type": "markdown",
   "metadata": {},
   "source": [
    "## Loading our Data"
   ]
  },
  {
   "cell_type": "code",
   "execution_count": 2,
   "metadata": {},
   "outputs": [],
   "source": [
    "import pandas as pd\n",
    "\n",
    "# Load the data\n",
    "surveys_df = pd.read_csv(\"data/surveys.csv\")\n",
    "species_df = pd.read_csv(\"data/species.csv\")"
   ]
  },
  {
   "cell_type": "markdown",
   "metadata": {},
   "source": [
    "## Automating data processing using For Loops"
   ]
  },
  {
   "cell_type": "code",
   "execution_count": 3,
   "metadata": {},
   "outputs": [],
   "source": [
    "import os"
   ]
  },
  {
   "cell_type": "code",
   "execution_count": 4,
   "metadata": {},
   "outputs": [],
   "source": [
    "folder_years = \"yearly_files\"\n",
    "os.mkdir(folder_years)"
   ]
  },
  {
   "cell_type": "code",
   "execution_count": 5,
   "metadata": {
    "scrolled": true
   },
   "outputs": [
    {
     "data": {
      "text/plain": [
       "['.git',\n",
       " '.gitignore',\n",
       " '00-about.ipynb',\n",
       " '01-data.ipynb',\n",
       " '02-selection.ipynb',\n",
       " '03-combining.ipynb',\n",
       " '04-workflows.ipynb',\n",
       " '05-plotnine.ipynb',\n",
       " '06-matplotlib.ipynb',\n",
       " 'README.md',\n",
       " 'data',\n",
       " 'extras',\n",
       " 'solutions',\n",
       " '.ipynb_checkpoints',\n",
       " 'surveys_complete.csv',\n",
       " 'surveys_sub.csv',\n",
       " 'yearly_files']"
      ]
     },
     "execution_count": 5,
     "metadata": {},
     "output_type": "execute_result"
    }
   ],
   "source": [
    "os.listdir('.')"
   ]
  },
  {
   "cell_type": "code",
   "execution_count": 12,
   "metadata": {},
   "outputs": [
    {
     "data": {
      "text/plain": [
       "['surveys_1977.csv',\n",
       " 'surveys_1978.csv',\n",
       " 'surveys_1979.csv',\n",
       " 'surveys_1980.csv',\n",
       " 'surveys_1981.csv',\n",
       " 'surveys_1982.csv',\n",
       " 'surveys_1983.csv',\n",
       " 'surveys_1984.csv',\n",
       " 'surveys_1985.csv',\n",
       " 'surveys_1986.csv',\n",
       " 'surveys_1987.csv',\n",
       " 'surveys_1988.csv',\n",
       " 'surveys_1989.csv',\n",
       " 'surveys_1990.csv',\n",
       " 'surveys_1991.csv',\n",
       " 'surveys_1992.csv',\n",
       " 'surveys_1993.csv',\n",
       " 'surveys_1994.csv',\n",
       " 'surveys_1995.csv',\n",
       " 'surveys_1996.csv',\n",
       " 'surveys_1997.csv',\n",
       " 'surveys_1998.csv',\n",
       " 'surveys_1999.csv',\n",
       " 'surveys_2000.csv',\n",
       " 'surveys_2001.csv',\n",
       " 'surveys_2002.csv']"
      ]
     },
     "execution_count": 12,
     "metadata": {},
     "output_type": "execute_result"
    }
   ],
   "source": [
    "os.listdir('./yearly_files')"
   ]
  },
  {
   "cell_type": "code",
   "execution_count": 11,
   "metadata": {},
   "outputs": [
    {
     "name": "stdout",
     "output_type": "stream",
     "text": [
      "yearly_files/surveys_1977.csv\n",
      "yearly_files/surveys_1978.csv\n",
      "yearly_files/surveys_1979.csv\n",
      "yearly_files/surveys_1980.csv\n",
      "yearly_files/surveys_1981.csv\n",
      "yearly_files/surveys_1982.csv\n",
      "yearly_files/surveys_1983.csv\n",
      "yearly_files/surveys_1984.csv\n",
      "yearly_files/surveys_1985.csv\n",
      "yearly_files/surveys_1986.csv\n",
      "yearly_files/surveys_1987.csv\n",
      "yearly_files/surveys_1988.csv\n",
      "yearly_files/surveys_1989.csv\n",
      "yearly_files/surveys_1990.csv\n",
      "yearly_files/surveys_1991.csv\n",
      "yearly_files/surveys_1992.csv\n",
      "yearly_files/surveys_1993.csv\n",
      "yearly_files/surveys_1994.csv\n",
      "yearly_files/surveys_1995.csv\n",
      "yearly_files/surveys_1996.csv\n",
      "yearly_files/surveys_1997.csv\n",
      "yearly_files/surveys_1998.csv\n",
      "yearly_files/surveys_1999.csv\n",
      "yearly_files/surveys_2000.csv\n",
      "yearly_files/surveys_2001.csv\n",
      "yearly_files/surveys_2002.csv\n"
     ]
    },
    {
     "data": {
      "text/plain": [
       "['surveys_1977.csv',\n",
       " 'surveys_1978.csv',\n",
       " 'surveys_1979.csv',\n",
       " 'surveys_1980.csv',\n",
       " 'surveys_1981.csv',\n",
       " 'surveys_1982.csv',\n",
       " 'surveys_1983.csv',\n",
       " 'surveys_1984.csv',\n",
       " 'surveys_1985.csv',\n",
       " 'surveys_1986.csv',\n",
       " 'surveys_1987.csv',\n",
       " 'surveys_1988.csv',\n",
       " 'surveys_1989.csv',\n",
       " 'surveys_1990.csv',\n",
       " 'surveys_1991.csv',\n",
       " 'surveys_1992.csv',\n",
       " 'surveys_1993.csv',\n",
       " 'surveys_1994.csv',\n",
       " 'surveys_1995.csv',\n",
       " 'surveys_1996.csv',\n",
       " 'surveys_1997.csv',\n",
       " 'surveys_1998.csv',\n",
       " 'surveys_1999.csv',\n",
       " 'surveys_2000.csv',\n",
       " 'surveys_2001.csv',\n",
       " 'surveys_2002.csv']"
      ]
     },
     "execution_count": 11,
     "metadata": {},
     "output_type": "execute_result"
    }
   ],
   "source": [
    "for year in surveys_df['year'].unique():\n",
    "    # Create a unique filename for each year\n",
    "    filename = os.path.join(folder_years, \"surveys_\" + str(year) + \".csv\")\n",
    "    print(filename)\n",
    "\n",
    "    # Select data for the year\n",
    "    surveys_year = surveys_df[surveys_df['year'] == year]\n",
    "    surveys_year.to_csv(filename, index=False)\n",
    "\n",
    "os.listdir(folder_years)"
   ]
  },
  {
   "cell_type": "markdown",
   "metadata": {},
   "source": [
    "### Exercises - Creating multiple CSV files\n",
    "Instead of splitting out the data by years, a colleague wants to analyse each species separately. How would you write a unique csv file for each species?"
   ]
  },
  {
   "cell_type": "code",
   "execution_count": 13,
   "metadata": {},
   "outputs": [],
   "source": [
    "folder_species = \"species_files\"\n",
    "os.mkdir(folder_species)  # Create the directory"
   ]
  },
  {
   "cell_type": "code",
   "execution_count": 17,
   "metadata": {},
   "outputs": [
    {
     "name": "stdout",
     "output_type": "stream",
     "text": [
      "species_files/surveys_nan.csv\n",
      "species_files/surveys_merriami.csv\n",
      "species_files/surveys_flavus.csv\n",
      "species_files/surveys_eremicus.csv\n",
      "species_files/surveys_spectabilis.csv\n",
      "species_files/surveys_penicillatus.csv\n",
      "species_files/surveys_hispidus.csv\n",
      "species_files/surveys_torridus.csv\n",
      "species_files/surveys_ordii.csv\n",
      "species_files/surveys_sp..csv\n",
      "species_files/surveys_spilosoma.csv\n",
      "species_files/surveys_leucogaster.csv\n",
      "species_files/surveys_megalotis.csv\n",
      "species_files/surveys_albigula.csv\n",
      "species_files/surveys_audubonii.csv\n",
      "species_files/surveys_maniculatus.csv\n",
      "species_files/surveys_harrisi.csv\n",
      "species_files/surveys_bilineata.csv\n",
      "species_files/surveys_brunneicapillus.csv\n",
      "species_files/surveys_melanocorys.csv\n",
      "species_files/surveys_squamata.csv\n",
      "species_files/surveys_fulvescens.csv\n",
      "species_files/surveys_chlorurus.csv\n",
      "species_files/surveys_gramineus.csv\n",
      "species_files/surveys_fuscus.csv\n",
      "species_files/surveys_viridis.csv\n",
      "species_files/surveys_leucophrys.csv\n",
      "species_files/surveys_scutalatus.csv\n",
      "species_files/surveys_clarki.csv\n",
      "species_files/surveys_taylori.csv\n",
      "species_files/surveys_fulviventer.csv\n",
      "species_files/surveys_montanus.csv\n",
      "species_files/surveys_savannarum.csv\n",
      "species_files/surveys_ochrognathus.csv\n",
      "species_files/surveys_intermedius.csv\n",
      "species_files/surveys_tereticaudus.csv\n",
      "species_files/surveys_uniparens.csv\n",
      "species_files/surveys_undulatus.csv\n",
      "species_files/surveys_baileyi.csv\n",
      "species_files/surveys_leucopus.csv\n",
      "species_files/surveys_tigris.csv\n"
     ]
    },
    {
     "data": {
      "text/plain": [
       "['surveys_nan.csv',\n",
       " 'surveys_merriami.csv',\n",
       " 'surveys_flavus.csv',\n",
       " 'surveys_eremicus.csv',\n",
       " 'surveys_spectabilis.csv',\n",
       " 'surveys_penicillatus.csv',\n",
       " 'surveys_hispidus.csv',\n",
       " 'surveys_torridus.csv',\n",
       " 'surveys_ordii.csv',\n",
       " 'surveys_sp..csv',\n",
       " 'surveys_spilosoma.csv',\n",
       " 'surveys_leucogaster.csv',\n",
       " 'surveys_megalotis.csv',\n",
       " 'surveys_albigula.csv',\n",
       " 'surveys_audubonii.csv',\n",
       " 'surveys_maniculatus.csv',\n",
       " 'surveys_harrisi.csv',\n",
       " 'surveys_bilineata.csv',\n",
       " 'surveys_brunneicapillus.csv',\n",
       " 'surveys_melanocorys.csv',\n",
       " 'surveys_squamata.csv',\n",
       " 'surveys_fulvescens.csv',\n",
       " 'surveys_chlorurus.csv',\n",
       " 'surveys_gramineus.csv',\n",
       " 'surveys_fuscus.csv',\n",
       " 'surveys_viridis.csv',\n",
       " 'surveys_leucophrys.csv',\n",
       " 'surveys_scutalatus.csv',\n",
       " 'surveys_clarki.csv',\n",
       " 'surveys_taylori.csv',\n",
       " 'surveys_fulviventer.csv',\n",
       " 'surveys_montanus.csv',\n",
       " 'surveys_savannarum.csv',\n",
       " 'surveys_ochrognathus.csv',\n",
       " 'surveys_intermedius.csv',\n",
       " 'surveys_tereticaudus.csv',\n",
       " 'surveys_uniparens.csv',\n",
       " 'surveys_undulatus.csv',\n",
       " 'surveys_baileyi.csv',\n",
       " 'surveys_leucopus.csv',\n",
       " 'surveys_tigris.csv',\n",
       " '.ipynb_checkpoints']"
      ]
     },
     "execution_count": 17,
     "metadata": {},
     "output_type": "execute_result"
    }
   ],
   "source": [
    "merged_left = pd.merge(left=surveys_df, right=species_df, how='left', on=\"species_id\")\n",
    "\n",
    "for species in merged_left['species'].unique():\n",
    "    # Create a unique filename for each species\n",
    "    filename = os.path.join(folder_species, \"surveys_\" + str(species) + \".csv\")\n",
    "    print(filename)\n",
    "\n",
    "    # Select data for the current species\n",
    "    merged_left_species = merged_left[merged_left['species'] == species].dropna()\n",
    "    merged_left_species.to_csv(filename, index=False)\n",
    "\n",
    "os.listdir(folder_species)"
   ]
  },
  {
   "cell_type": "markdown",
   "metadata": {},
   "source": [
    "## Building reusable and modular code with functions\n",
    "* Automatically create the `folder_to_save` if it does not exist.\n",
    "* Use `None` as default `start_year` and `end_year`.\n",
    "* Make the second function return a list of generated files."
   ]
  },
  {
   "cell_type": "code",
   "execution_count": 18,
   "metadata": {},
   "outputs": [],
   "source": [
    "def one_year_csv_writer(all_data, folder_to_save, prefix, this_year):\n",
    "    \"\"\"\n",
    "    Writes a csv file for data from a given year. Returns the filename.\n",
    "\n",
    "    all_data --- DataFrame with multi-year data\n",
    "    folder_to_save --- folder to save the data files\n",
    "    prefix --- prefix for the CSV file name\n",
    "    this_year --- year for which data is extracted\n",
    "    \"\"\"\n",
    "\n",
    "    # Create a unique filename for each year\n",
    "    filename = os.path.join(folder_to_save, prefix + str(this_year) + \".csv\")\n",
    "\n",
    "    # Select data for the year\n",
    "    data_for_year = all_data[all_data['year'] == this_year]\n",
    "    data_for_year.to_csv(filename, index=False)\n",
    "\n",
    "    return filename"
   ]
  },
  {
   "cell_type": "code",
   "execution_count": 19,
   "metadata": {},
   "outputs": [],
   "source": [
    "def yearly_data_csv_writer(all_data, folder_to_save, prefix,\n",
    "                           start_year = None, end_year = None):\n",
    "    \"\"\"\n",
    "    Modified from yearly_data_csv_writer to test default argument values!\n",
    "\n",
    "    all_data --- DataFrame with multi-year data\n",
    "    folder_to_save --- folder to save the data files\n",
    "    prefix --- prefix for the CSV file name\n",
    "    start_year --- the first year of data we want --- default: None - check all_data\n",
    "    end_year --- the last year of data we want --- default: None - check all_data\n",
    "    \"\"\"\n",
    "\n",
    "    if folder_to_save in os.listdir('.'):\n",
    "        print('Processed directory exists')\n",
    "    else:\n",
    "        os.mkdir(folder_to_save)\n",
    "        print('Processed directory created')\n",
    "\n",
    "    if not start_year:\n",
    "        start_year = min(all_data['year'])\n",
    "\n",
    "    if not end_year:\n",
    "        end_year = max(all_data['year'])\n",
    "\n",
    "    filenames = []\n",
    "\n",
    "    # \"end_year\" is the last year of data we want to pull, so we loop to end_year+1\n",
    "    for year in range(start_year, end_year + 1):\n",
    "        filenames.append(one_year_csv_writer(all_data, folder_to_save, prefix, year))\n",
    "\n",
    "    return filenames"
   ]
  },
  {
   "cell_type": "code",
   "execution_count": 20,
   "metadata": {},
   "outputs": [
    {
     "name": "stdout",
     "output_type": "stream",
     "text": [
      "Processed directory created\n"
     ]
    },
    {
     "data": {
      "text/plain": [
       "['final/results_1995.csv',\n",
       " 'final/results_1996.csv',\n",
       " 'final/results_1997.csv',\n",
       " 'final/results_1998.csv']"
      ]
     },
     "execution_count": 20,
     "metadata": {},
     "output_type": "execute_result"
    }
   ],
   "source": [
    "yearly_data_csv_writer(surveys_df, 'final', 'results_', 1995, 1998)"
   ]
  },
  {
   "cell_type": "code",
   "execution_count": 21,
   "metadata": {},
   "outputs": [
    {
     "data": {
      "text/plain": [
       "['results_1995.csv',\n",
       " 'results_1996.csv',\n",
       " 'results_1997.csv',\n",
       " 'results_1998.csv',\n",
       " '.ipynb_checkpoints']"
      ]
     },
     "execution_count": 21,
     "metadata": {},
     "output_type": "execute_result"
    }
   ],
   "source": [
    "os.listdir(\"final\")"
   ]
  },
  {
   "cell_type": "code",
   "execution_count": 22,
   "metadata": {},
   "outputs": [
    {
     "name": "stdout",
     "output_type": "stream",
     "text": [
      "Processed directory created\n"
     ]
    },
    {
     "data": {
      "text/plain": [
       "['finalall/results_all1977.csv',\n",
       " 'finalall/results_all1978.csv',\n",
       " 'finalall/results_all1979.csv',\n",
       " 'finalall/results_all1980.csv',\n",
       " 'finalall/results_all1981.csv',\n",
       " 'finalall/results_all1982.csv',\n",
       " 'finalall/results_all1983.csv',\n",
       " 'finalall/results_all1984.csv',\n",
       " 'finalall/results_all1985.csv',\n",
       " 'finalall/results_all1986.csv',\n",
       " 'finalall/results_all1987.csv',\n",
       " 'finalall/results_all1988.csv',\n",
       " 'finalall/results_all1989.csv',\n",
       " 'finalall/results_all1990.csv',\n",
       " 'finalall/results_all1991.csv',\n",
       " 'finalall/results_all1992.csv',\n",
       " 'finalall/results_all1993.csv',\n",
       " 'finalall/results_all1994.csv',\n",
       " 'finalall/results_all1995.csv',\n",
       " 'finalall/results_all1996.csv',\n",
       " 'finalall/results_all1997.csv',\n",
       " 'finalall/results_all1998.csv',\n",
       " 'finalall/results_all1999.csv',\n",
       " 'finalall/results_all2000.csv',\n",
       " 'finalall/results_all2001.csv',\n",
       " 'finalall/results_all2002.csv']"
      ]
     },
     "execution_count": 22,
     "metadata": {},
     "output_type": "execute_result"
    }
   ],
   "source": [
    "yearly_data_csv_writer(surveys_df, 'finalall', 'results_all')"
   ]
  },
  {
   "cell_type": "code",
   "execution_count": 23,
   "metadata": {},
   "outputs": [
    {
     "ename": "OSError",
     "evalue": "[Errno 39] Directory not empty: 'finalall'",
     "output_type": "error",
     "traceback": [
      "\u001b[0;31m---------------------------------------------------------------------------\u001b[0m",
      "\u001b[0;31mOSError\u001b[0m                                   Traceback (most recent call last)",
      "\u001b[0;32m/tmp/ipykernel_13675/336450754.py\u001b[0m in \u001b[0;36m<module>\u001b[0;34m\u001b[0m\n\u001b[0;32m----> 1\u001b[0;31m \u001b[0mos\u001b[0m\u001b[0;34m.\u001b[0m\u001b[0mrmdir\u001b[0m\u001b[0;34m(\u001b[0m\u001b[0;34m'finalall'\u001b[0m\u001b[0;34m)\u001b[0m\u001b[0;34m\u001b[0m\u001b[0;34m\u001b[0m\u001b[0m\n\u001b[0m",
      "\u001b[0;31mOSError\u001b[0m: [Errno 39] Directory not empty: 'finalall'"
     ]
    }
   ],
   "source": [
    "os.rmdir('finalall')"
   ]
  },
  {
   "cell_type": "code",
   "execution_count": 24,
   "metadata": {},
   "outputs": [
    {
     "name": "stdout",
     "output_type": "stream",
     "text": [
      "Help on built-in function rmdir in module posix:\n",
      "\n",
      "rmdir(path, *, dir_fd=None)\n",
      "    Remove a directory.\n",
      "    \n",
      "    If dir_fd is not None, it should be a file descriptor open to a directory,\n",
      "      and path should be relative; path will then be relative to that directory.\n",
      "    dir_fd may not be implemented on your platform.\n",
      "      If it is unavailable, using it will raise a NotImplementedError.\n",
      "\n"
     ]
    }
   ],
   "source": [
    "help(os.rmdir)"
   ]
  },
  {
   "cell_type": "code",
   "execution_count": null,
   "metadata": {},
   "outputs": [],
   "source": []
  }
 ],
 "metadata": {
  "anaconda-cloud": {},
  "kernelspec": {
   "display_name": "Python 3 (ipykernel)",
   "language": "python",
   "name": "python3"
  },
  "language_info": {
   "codemirror_mode": {
    "name": "ipython",
    "version": 3
   },
   "file_extension": ".py",
   "mimetype": "text/x-python",
   "name": "python",
   "nbconvert_exporter": "python",
   "pygments_lexer": "ipython3",
   "version": "3.7.4"
  }
 },
 "nbformat": 4,
 "nbformat_minor": 4
}
